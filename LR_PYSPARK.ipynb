{
  "nbformat": 4,
  "nbformat_minor": 0,
  "metadata": {
    "colab": {
      "provenance": []
    },
    "kernelspec": {
      "name": "python3",
      "display_name": "Python 3"
    },
    "language_info": {
      "name": "python"
    }
  },
  "cells": [
    {
      "cell_type": "code",
      "execution_count": 1,
      "metadata": {
        "id": "wqjDpw8jUkAo",
        "colab": {
          "base_uri": "https://localhost:8080/"
        },
        "outputId": "287cd91e-6381-4f5c-c62c-2f8512331e52"
      },
      "outputs": [
        {
          "output_type": "stream",
          "name": "stdout",
          "text": [
            "\u001b[2K     \u001b[90m━━━━━━━━━━━━━━━━━━━━━━━━━━━━━━━━━━━━━━━━\u001b[0m \u001b[32m317.0/317.0 MB\u001b[0m \u001b[31m2.3 MB/s\u001b[0m eta \u001b[36m0:00:00\u001b[0m\n",
            "\u001b[?25h  Preparing metadata (setup.py) ... \u001b[?25l\u001b[?25hdone\n",
            "  Building wheel for pyspark (setup.py) ... \u001b[?25l\u001b[?25hdone\n"
          ]
        }
      ],
      "source": [
        "%pip install pyspark py4j -qq"
      ]
    },
    {
      "cell_type": "code",
      "source": [
        "from pyspark.sql import SparkSession\n",
        "from pyspark.ml.stat import Correlation\n",
        "import pyspark.sql.functions as F"
      ],
      "metadata": {
        "id": "3_0GOSuHUsJ8"
      },
      "execution_count": 3,
      "outputs": []
    },
    {
      "cell_type": "code",
      "source": [
        "spark = SparkSession.builder.getOrCreate()"
      ],
      "metadata": {
        "id": "mJKpjTgPVHKQ"
      },
      "execution_count": 4,
      "outputs": []
    },
    {
      "cell_type": "code",
      "source": [
        "spark"
      ],
      "metadata": {
        "colab": {
          "base_uri": "https://localhost:8080/",
          "height": 219
        },
        "id": "-E5QrXTwvIaW",
        "outputId": "a94958d8-a1b3-4551-a536-bd369837469a"
      },
      "execution_count": 6,
      "outputs": [
        {
          "output_type": "execute_result",
          "data": {
            "text/plain": [
              "<pyspark.sql.session.SparkSession at 0x7ac99d861bd0>"
            ],
            "text/html": [
              "\n",
              "            <div>\n",
              "                <p><b>SparkSession - in-memory</b></p>\n",
              "                \n",
              "        <div>\n",
              "            <p><b>SparkContext</b></p>\n",
              "\n",
              "            <p><a href=\"http://4f78372039e7:4040\">Spark UI</a></p>\n",
              "\n",
              "            <dl>\n",
              "              <dt>Version</dt>\n",
              "                <dd><code>v3.5.1</code></dd>\n",
              "              <dt>Master</dt>\n",
              "                <dd><code>local[*]</code></dd>\n",
              "              <dt>AppName</dt>\n",
              "                <dd><code>pyspark-shell</code></dd>\n",
              "            </dl>\n",
              "        </div>\n",
              "        \n",
              "            </div>\n",
              "        "
            ]
          },
          "metadata": {},
          "execution_count": 6
        }
      ]
    },
    {
      "cell_type": "code",
      "source": [
        "df = spark.read.csv(\"/content/student_exam_data.csv\", inferSchema=True, header=True)"
      ],
      "metadata": {
        "id": "AvgUzSaoVL11"
      },
      "execution_count": 7,
      "outputs": []
    },
    {
      "cell_type": "code",
      "source": [
        "df.show()"
      ],
      "metadata": {
        "colab": {
          "base_uri": "https://localhost:8080/"
        },
        "id": "1z_GE9MkVT5C",
        "outputId": "a2e41813-8b32-435e-8b30-b7aab55e336c"
      },
      "execution_count": 8,
      "outputs": [
        {
          "output_type": "stream",
          "name": "stdout",
          "text": [
            "+---+--------------+--------------------+----------------+-----------+-------------------+---------+\n",
            "|sex|Random answers|Knowledge on subject|Response pattern|Study Hours|Previous Exam Score|Pass/Fail|\n",
            "+---+--------------+--------------------+----------------+-----------+-------------------+---------+\n",
            "|  B|             B|                   5|               D| 4.37086107|        81.88970284|        0|\n",
            "|  A|             C|                   2|               B|9.556428758|        72.16578198|        1|\n",
            "|  B|             D|                   2|               B|7.587945476|        58.57165698|        0|\n",
            "|  A|             D|                   9|               D|6.387926358|        88.82770118|        1|\n",
            "|  A|             A|                   4|               A|2.404167764|        81.08387035|        0|\n",
            "|  A|             C|                   3|               A|2.403950683|        49.75701636|        0|\n",
            "|  B|             A|                   2|               B| 1.52275251|        94.65563107|        0|\n",
            "|  A|             A|                   9|               C|8.795585312|        89.35223458|        1|\n",
            "|  A|             C|                   4|               B|6.410035106|         96.9879948|        1|\n",
            "|  B|             B|                   3|               A|  7.3726532|         83.5431705|        1|\n",
            "|  B|             A|                   1|               D|1.185260449|        76.80491176|        0|\n",
            "|  A|             A|                   6|               D|9.729188669|        65.09458218|        1|\n",
            "|  A|             B|                   2|               C|8.491983767|          95.963709|        1|\n",
            "|  B|             C|                   4|               A|2.911051996|        91.96383337|        0|\n",
            "|  A|             D|                   8|               C|2.636424705|        42.71312021|        0|\n",
            "|  A|             A|                   4|               C|2.650640589|        41.58201847|        0|\n",
            "|  B|             B|                  10|               C|3.738180187|        62.58780201|        0|\n",
            "|  B|             D|                   6|               A|5.722807885|        88.63319985|        1|\n",
            "|  A|             B|                   5|               B|4.887505168|        99.23656776|        0|\n",
            "|  A|             C|                  10|               C|3.621062262|        49.02501347|        0|\n",
            "+---+--------------+--------------------+----------------+-----------+-------------------+---------+\n",
            "only showing top 20 rows\n",
            "\n"
          ]
        }
      ]
    },
    {
      "cell_type": "code",
      "source": [
        "df.describe().show()"
      ],
      "metadata": {
        "colab": {
          "base_uri": "https://localhost:8080/"
        },
        "id": "aSkO7wemVVUL",
        "outputId": "036382af-cf2f-4b2e-93cf-4dd28068bb2b"
      },
      "execution_count": 9,
      "outputs": [
        {
          "output_type": "stream",
          "name": "stdout",
          "text": [
            "+-------+----+--------------+--------------------+----------------+------------------+-------------------+------------------+\n",
            "|summary| sex|Random answers|Knowledge on subject|Response pattern|       Study Hours|Previous Exam Score|         Pass/Fail|\n",
            "+-------+----+--------------+--------------------+----------------+------------------+-------------------+------------------+\n",
            "|  count| 500|           500|                 500|             500|               500|                500|               500|\n",
            "|   mean|NULL|          NULL|               5.602|            NULL| 5.487055410087996|     68.91708366446|             0.368|\n",
            "| stddev|NULL|          NULL|  2.9828494399756638|            NULL|2.6881956756793355|  17.12960741298545|0.4827443258789654|\n",
            "|    min|   A|             A|                   1|               A|       1.045554255|        40.27792138|                 0|\n",
            "|    max|   B|             D|                  10|               D|       9.936683165|         99.9830604|                 1|\n",
            "+-------+----+--------------+--------------------+----------------+------------------+-------------------+------------------+\n",
            "\n"
          ]
        }
      ]
    },
    {
      "cell_type": "markdown",
      "source": [
        "StringIndexer: It is used to convert a string column into numerical form. It allocates unique values to each of the categories present in the respective column."
      ],
      "metadata": {
        "id": "2BUP4l4FVbsX"
      }
    },
    {
      "cell_type": "code",
      "source": [
        "from pyspark.ml.feature import StringIndexer"
      ],
      "metadata": {
        "id": "wrRQuHYOVYrI"
      },
      "execution_count": 10,
      "outputs": []
    },
    {
      "cell_type": "code",
      "source": [
        "indexer = StringIndexer(inputCol=\"sex\", outputCol=\"gender_cat\")\n",
        "indexed = indexer.fit(df).transform(df)"
      ],
      "metadata": {
        "id": "grDGY-XSViUo"
      },
      "execution_count": 11,
      "outputs": []
    },
    {
      "cell_type": "code",
      "source": [
        "indexer = StringIndexer(inputCol=\"Random answers\", outputCol=\"rand_ans\")\n",
        "indexed = indexer.fit(indexed).transform(indexed)"
      ],
      "metadata": {
        "id": "jKt9OKYWVtzb"
      },
      "execution_count": 12,
      "outputs": []
    },
    {
      "cell_type": "code",
      "source": [
        "indexer = StringIndexer(inputCol=\"Response pattern\", outputCol=\"res_patrn\")\n",
        "indexed = indexer.fit(indexed).transform(indexed)"
      ],
      "metadata": {
        "id": "qsayF8_UV2Ot"
      },
      "execution_count": 13,
      "outputs": []
    },
    {
      "cell_type": "code",
      "source": [
        "indexer = StringIndexer(inputCol=\"Knowledge on subject\", outputCol=\"sub_know\")\n",
        "indexed = indexer.fit(indexed).transform(indexed)"
      ],
      "metadata": {
        "id": "yJfBiVNAv1kt"
      },
      "execution_count": 14,
      "outputs": []
    },
    {
      "cell_type": "code",
      "source": [],
      "metadata": {
        "id": "eRdoH2bxwR9K"
      },
      "execution_count": null,
      "outputs": []
    },
    {
      "cell_type": "code",
      "source": [
        "indexed.show()"
      ],
      "metadata": {
        "colab": {
          "base_uri": "https://localhost:8080/"
        },
        "id": "VHKpNiQ7V604",
        "outputId": "12e365eb-ae20-48ff-e301-79ab44d179cf"
      },
      "execution_count": 15,
      "outputs": [
        {
          "output_type": "stream",
          "name": "stdout",
          "text": [
            "+---+--------------+--------------------+----------------+-----------+-------------------+---------+----------+--------+---------+--------+\n",
            "|sex|Random answers|Knowledge on subject|Response pattern|Study Hours|Previous Exam Score|Pass/Fail|gender_cat|rand_ans|res_patrn|sub_know|\n",
            "+---+--------------+--------------------+----------------+-----------+-------------------+---------+----------+--------+---------+--------+\n",
            "|  B|             B|                   5|               D| 4.37086107|        81.88970284|        0|       1.0|     0.0|      1.0|     5.0|\n",
            "|  A|             C|                   2|               B|9.556428758|        72.16578198|        1|       0.0|     2.0|      2.0|     1.0|\n",
            "|  B|             D|                   2|               B|7.587945476|        58.57165698|        0|       1.0|     1.0|      2.0|     1.0|\n",
            "|  A|             D|                   9|               D|6.387926358|        88.82770118|        1|       0.0|     1.0|      1.0|     3.0|\n",
            "|  A|             A|                   4|               A|2.404167764|        81.08387035|        0|       0.0|     3.0|      3.0|     2.0|\n",
            "|  A|             C|                   3|               A|2.403950683|        49.75701636|        0|       0.0|     2.0|      3.0|     4.0|\n",
            "|  B|             A|                   2|               B| 1.52275251|        94.65563107|        0|       1.0|     3.0|      2.0|     1.0|\n",
            "|  A|             A|                   9|               C|8.795585312|        89.35223458|        1|       0.0|     3.0|      0.0|     3.0|\n",
            "|  A|             C|                   4|               B|6.410035106|         96.9879948|        1|       0.0|     2.0|      2.0|     2.0|\n",
            "|  B|             B|                   3|               A|  7.3726532|         83.5431705|        1|       1.0|     0.0|      3.0|     4.0|\n",
            "|  B|             A|                   1|               D|1.185260449|        76.80491176|        0|       1.0|     3.0|      1.0|     7.0|\n",
            "|  A|             A|                   6|               D|9.729188669|        65.09458218|        1|       0.0|     3.0|      1.0|     9.0|\n",
            "|  A|             B|                   2|               C|8.491983767|          95.963709|        1|       0.0|     0.0|      0.0|     1.0|\n",
            "|  B|             C|                   4|               A|2.911051996|        91.96383337|        0|       1.0|     2.0|      3.0|     2.0|\n",
            "|  A|             D|                   8|               C|2.636424705|        42.71312021|        0|       0.0|     1.0|      0.0|     6.0|\n",
            "|  A|             A|                   4|               C|2.650640589|        41.58201847|        0|       0.0|     3.0|      0.0|     2.0|\n",
            "|  B|             B|                  10|               C|3.738180187|        62.58780201|        0|       1.0|     0.0|      0.0|     0.0|\n",
            "|  B|             D|                   6|               A|5.722807885|        88.63319985|        1|       1.0|     1.0|      3.0|     9.0|\n",
            "|  A|             B|                   5|               B|4.887505168|        99.23656776|        0|       0.0|     0.0|      2.0|     5.0|\n",
            "|  A|             C|                  10|               C|3.621062262|        49.02501347|        0|       0.0|     2.0|      0.0|     0.0|\n",
            "+---+--------------+--------------------+----------------+-----------+-------------------+---------+----------+--------+---------+--------+\n",
            "only showing top 20 rows\n",
            "\n"
          ]
        }
      ]
    },
    {
      "cell_type": "markdown",
      "source": [
        "Given the multiple columns, we need to merge them into a single column using VectorAssembler. It is a feature transformer that merges multiple columns into a vector column. One can select the number of columns used as input features and pass only those columns through the VectorAssembler. We will pass all seven input columns to create a single feature vector column in our case."
      ],
      "metadata": {
        "id": "UELFSU6fV_GE"
      }
    },
    {
      "cell_type": "code",
      "source": [
        "from pyspark.ml.linalg import Vector\n",
        "from pyspark.ml.feature import VectorAssembler"
      ],
      "metadata": {
        "id": "xept9uFQV9DV"
      },
      "execution_count": 16,
      "outputs": []
    },
    {
      "cell_type": "markdown",
      "source": [],
      "metadata": {
        "id": "7KSgYTZ3wYF4"
      }
    },
    {
      "cell_type": "code",
      "source": [
        "assembler = VectorAssembler(inputCols=['rand_ans','sub_know','res_patrn','Previous Exam Score'], outputCol='features')"
      ],
      "metadata": {
        "id": "dVJ1UXdwWIfh"
      },
      "execution_count": 20,
      "outputs": []
    },
    {
      "cell_type": "code",
      "source": [
        "assembler"
      ],
      "metadata": {
        "colab": {
          "base_uri": "https://localhost:8080/"
        },
        "id": "prXYcT44WYZ3",
        "outputId": "759187cd-10e9-43fc-8197-da2a5151bbb3"
      },
      "execution_count": 21,
      "outputs": [
        {
          "output_type": "execute_result",
          "data": {
            "text/plain": [
              "VectorAssembler_affc5a57c184"
            ]
          },
          "metadata": {},
          "execution_count": 21
        }
      ]
    },
    {
      "cell_type": "code",
      "source": [
        "output = assembler.transform(indexed)"
      ],
      "metadata": {
        "id": "Pst2MNloXUZY"
      },
      "execution_count": 22,
      "outputs": []
    },
    {
      "cell_type": "code",
      "source": [
        "output.show()"
      ],
      "metadata": {
        "colab": {
          "base_uri": "https://localhost:8080/"
        },
        "id": "KPtUtM-NWbsa",
        "outputId": "acc11a13-07c5-4f88-eb03-df69d0ef3ecc"
      },
      "execution_count": 23,
      "outputs": [
        {
          "output_type": "stream",
          "name": "stdout",
          "text": [
            "+---+--------------+--------------------+----------------+-----------+-------------------+---------+----------+--------+---------+--------+--------------------+\n",
            "|sex|Random answers|Knowledge on subject|Response pattern|Study Hours|Previous Exam Score|Pass/Fail|gender_cat|rand_ans|res_patrn|sub_know|            features|\n",
            "+---+--------------+--------------------+----------------+-----------+-------------------+---------+----------+--------+---------+--------+--------------------+\n",
            "|  B|             B|                   5|               D| 4.37086107|        81.88970284|        0|       1.0|     0.0|      1.0|     5.0|[0.0,5.0,1.0,81.8...|\n",
            "|  A|             C|                   2|               B|9.556428758|        72.16578198|        1|       0.0|     2.0|      2.0|     1.0|[2.0,1.0,2.0,72.1...|\n",
            "|  B|             D|                   2|               B|7.587945476|        58.57165698|        0|       1.0|     1.0|      2.0|     1.0|[1.0,1.0,2.0,58.5...|\n",
            "|  A|             D|                   9|               D|6.387926358|        88.82770118|        1|       0.0|     1.0|      1.0|     3.0|[1.0,3.0,1.0,88.8...|\n",
            "|  A|             A|                   4|               A|2.404167764|        81.08387035|        0|       0.0|     3.0|      3.0|     2.0|[3.0,2.0,3.0,81.0...|\n",
            "|  A|             C|                   3|               A|2.403950683|        49.75701636|        0|       0.0|     2.0|      3.0|     4.0|[2.0,4.0,3.0,49.7...|\n",
            "|  B|             A|                   2|               B| 1.52275251|        94.65563107|        0|       1.0|     3.0|      2.0|     1.0|[3.0,1.0,2.0,94.6...|\n",
            "|  A|             A|                   9|               C|8.795585312|        89.35223458|        1|       0.0|     3.0|      0.0|     3.0|[3.0,3.0,0.0,89.3...|\n",
            "|  A|             C|                   4|               B|6.410035106|         96.9879948|        1|       0.0|     2.0|      2.0|     2.0|[2.0,2.0,2.0,96.9...|\n",
            "|  B|             B|                   3|               A|  7.3726532|         83.5431705|        1|       1.0|     0.0|      3.0|     4.0|[0.0,4.0,3.0,83.5...|\n",
            "|  B|             A|                   1|               D|1.185260449|        76.80491176|        0|       1.0|     3.0|      1.0|     7.0|[3.0,7.0,1.0,76.8...|\n",
            "|  A|             A|                   6|               D|9.729188669|        65.09458218|        1|       0.0|     3.0|      1.0|     9.0|[3.0,9.0,1.0,65.0...|\n",
            "|  A|             B|                   2|               C|8.491983767|          95.963709|        1|       0.0|     0.0|      0.0|     1.0|[0.0,1.0,0.0,95.9...|\n",
            "|  B|             C|                   4|               A|2.911051996|        91.96383337|        0|       1.0|     2.0|      3.0|     2.0|[2.0,2.0,3.0,91.9...|\n",
            "|  A|             D|                   8|               C|2.636424705|        42.71312021|        0|       0.0|     1.0|      0.0|     6.0|[1.0,6.0,0.0,42.7...|\n",
            "|  A|             A|                   4|               C|2.650640589|        41.58201847|        0|       0.0|     3.0|      0.0|     2.0|[3.0,2.0,0.0,41.5...|\n",
            "|  B|             B|                  10|               C|3.738180187|        62.58780201|        0|       1.0|     0.0|      0.0|     0.0|(4,[3],[62.587802...|\n",
            "|  B|             D|                   6|               A|5.722807885|        88.63319985|        1|       1.0|     1.0|      3.0|     9.0|[1.0,9.0,3.0,88.6...|\n",
            "|  A|             B|                   5|               B|4.887505168|        99.23656776|        0|       0.0|     0.0|      2.0|     5.0|[0.0,5.0,2.0,99.2...|\n",
            "|  A|             C|                  10|               C|3.621062262|        49.02501347|        0|       0.0|     2.0|      0.0|     0.0|[2.0,0.0,0.0,49.0...|\n",
            "+---+--------------+--------------------+----------------+-----------+-------------------+---------+----------+--------+---------+--------+--------------------+\n",
            "only showing top 20 rows\n",
            "\n"
          ]
        }
      ]
    },
    {
      "cell_type": "code",
      "source": [
        "output.select('features','Pass/Fail').show()"
      ],
      "metadata": {
        "colab": {
          "base_uri": "https://localhost:8080/"
        },
        "id": "moL60uVrXe2O",
        "outputId": "e66af506-4446-4eb6-eda7-8c55908d6763"
      },
      "execution_count": 24,
      "outputs": [
        {
          "output_type": "stream",
          "name": "stdout",
          "text": [
            "+--------------------+---------+\n",
            "|            features|Pass/Fail|\n",
            "+--------------------+---------+\n",
            "|[0.0,5.0,1.0,81.8...|        0|\n",
            "|[2.0,1.0,2.0,72.1...|        1|\n",
            "|[1.0,1.0,2.0,58.5...|        0|\n",
            "|[1.0,3.0,1.0,88.8...|        1|\n",
            "|[3.0,2.0,3.0,81.0...|        0|\n",
            "|[2.0,4.0,3.0,49.7...|        0|\n",
            "|[3.0,1.0,2.0,94.6...|        0|\n",
            "|[3.0,3.0,0.0,89.3...|        1|\n",
            "|[2.0,2.0,2.0,96.9...|        1|\n",
            "|[0.0,4.0,3.0,83.5...|        1|\n",
            "|[3.0,7.0,1.0,76.8...|        0|\n",
            "|[3.0,9.0,1.0,65.0...|        1|\n",
            "|[0.0,1.0,0.0,95.9...|        1|\n",
            "|[2.0,2.0,3.0,91.9...|        0|\n",
            "|[1.0,6.0,0.0,42.7...|        0|\n",
            "|[3.0,2.0,0.0,41.5...|        0|\n",
            "|(4,[3],[62.587802...|        0|\n",
            "|[1.0,9.0,3.0,88.6...|        1|\n",
            "|[0.0,5.0,2.0,99.2...|        0|\n",
            "|[2.0,0.0,0.0,49.0...|        0|\n",
            "+--------------------+---------+\n",
            "only showing top 20 rows\n",
            "\n"
          ]
        }
      ]
    },
    {
      "cell_type": "code",
      "source": [
        "final_data = output.select('features', 'Pass/Fail')"
      ],
      "metadata": {
        "id": "L9g18Qq5XkqF"
      },
      "execution_count": 25,
      "outputs": []
    },
    {
      "cell_type": "code",
      "source": [
        "train_data, test_data = final_data.randomSplit([0.7, 0.3])"
      ],
      "metadata": {
        "id": "midbAWQ5Xvxh"
      },
      "execution_count": 26,
      "outputs": []
    },
    {
      "cell_type": "code",
      "source": [
        "train_data.describe().show()"
      ],
      "metadata": {
        "colab": {
          "base_uri": "https://localhost:8080/"
        },
        "id": "RecMlgI0X69C",
        "outputId": "ea6f205c-d692-4178-8228-b3c4e204e8ff"
      },
      "execution_count": 27,
      "outputs": [
        {
          "output_type": "stream",
          "name": "stdout",
          "text": [
            "+-------+------------------+\n",
            "|summary|         Pass/Fail|\n",
            "+-------+------------------+\n",
            "|  count|               341|\n",
            "|   mean|0.3812316715542522|\n",
            "| stddev|0.4864030122111498|\n",
            "|    min|                 0|\n",
            "|    max|                 1|\n",
            "+-------+------------------+\n",
            "\n"
          ]
        }
      ]
    },
    {
      "cell_type": "code",
      "source": [
        "test_data.describe().show()"
      ],
      "metadata": {
        "colab": {
          "base_uri": "https://localhost:8080/"
        },
        "id": "1UzuhzTgYA0W",
        "outputId": "8367c1eb-bbb6-46ae-8cee-39a6d479829f"
      },
      "execution_count": 28,
      "outputs": [
        {
          "output_type": "stream",
          "name": "stdout",
          "text": [
            "+-------+-------------------+\n",
            "|summary|          Pass/Fail|\n",
            "+-------+-------------------+\n",
            "|  count|                159|\n",
            "|   mean|0.33962264150943394|\n",
            "| stddev| 0.4750774577650709|\n",
            "|    min|                  0|\n",
            "|    max|                  1|\n",
            "+-------+-------------------+\n",
            "\n"
          ]
        }
      ]
    },
    {
      "cell_type": "code",
      "source": [
        "from pyspark.ml.classification import LogisticRegression"
      ],
      "metadata": {
        "id": "jjH70aujYDjR"
      },
      "execution_count": 38,
      "outputs": []
    },
    {
      "cell_type": "code",
      "source": [
        "from pyspark.ml.evaluation import BinaryClassificationEvaluator, MulticlassClassificationEvaluator"
      ],
      "metadata": {
        "id": "F-PNfDoF4NnA"
      },
      "execution_count": 47,
      "outputs": []
    },
    {
      "cell_type": "code",
      "source": [
        "ship_lr=LogisticRegression(featuresCol=\"features\", labelCol='Pass/Fail')"
      ],
      "metadata": {
        "id": "tVJKAySEYKWC"
      },
      "execution_count": 39,
      "outputs": []
    },
    {
      "cell_type": "code",
      "source": [
        "trained_ship_model = ship_lr.fit(train_data)"
      ],
      "metadata": {
        "id": "aBD_oB7gYVKu"
      },
      "execution_count": 48,
      "outputs": []
    },
    {
      "cell_type": "code",
      "source": [
        "ship_results = trained_ship_model.transform(train_data)"
      ],
      "metadata": {
        "id": "8mMXriOdYZft"
      },
      "execution_count": 49,
      "outputs": []
    },
    {
      "cell_type": "code",
      "source": [
        "# Show the predictions\n",
        "ship_results.select('features', 'Pass/Fail', 'prediction', 'probability').show()"
      ],
      "metadata": {
        "colab": {
          "base_uri": "https://localhost:8080/"
        },
        "id": "tstuuCu076So",
        "outputId": "213eb963-b119-45cb-d936-caf9193d5f99"
      },
      "execution_count": 58,
      "outputs": [
        {
          "output_type": "stream",
          "name": "stdout",
          "text": [
            "+--------------------+---------+----------+--------------------+\n",
            "|            features|Pass/Fail|prediction|         probability|\n",
            "+--------------------+---------+----------+--------------------+\n",
            "|(4,[3],[50.886126...|        0|       0.0|[0.91104469342483...|\n",
            "|(4,[3],[60.741759...|        0|       0.0|[0.84674830540373...|\n",
            "|(4,[3],[60.780759...|        1|       0.0|[0.84643113778819...|\n",
            "|(4,[3],[89.0466137])|        0|       1.0|[0.48424024238494...|\n",
            "|(4,[3],[92.433404...|        0|       1.0|[0.43164748342747...|\n",
            "|(4,[3],[95.534110...|        0|       1.0|[0.38478398359161...|\n",
            "|[0.0,0.0,1.0,48.2...|        0|       0.0|[0.91438629688119...|\n",
            "|[0.0,0.0,1.0,51.0...|        0|       0.0|[0.89927431180627...|\n",
            "|[0.0,0.0,1.0,90.2...|        1|       1.0|[0.43359351948411...|\n",
            "|[0.0,0.0,1.0,99.8...|        0|       1.0|[0.29674030030513...|\n",
            "|[0.0,0.0,2.0,74.4...|        0|       0.0|[0.64529879321108...|\n",
            "|[0.0,0.0,2.0,83.6...|        1|       0.0|[0.50522968300806...|\n",
            "|[0.0,0.0,2.0,88.9...|        0|       1.0|[0.42281103730375...|\n",
            "|[0.0,0.0,3.0,44.0...|        0|       0.0|[0.91521784787800...|\n",
            "|[0.0,0.0,3.0,74.8...|        1|       0.0|[0.61058799217905...|\n",
            "|[0.0,0.0,3.0,75.4...|        0|       0.0|[0.60099975908806...|\n",
            "|[0.0,1.0,0.0,49.8...|        0|       0.0|[0.91250101554502...|\n",
            "|[0.0,1.0,0.0,61.7...|        1|       0.0|[0.83172362502528...|\n",
            "|[0.0,1.0,0.0,62.6...|        1|       0.0|[0.82374786510687...|\n",
            "|[0.0,1.0,0.0,75.4...|        0|       0.0|[0.67741056374762...|\n",
            "+--------------------+---------+----------+--------------------+\n",
            "only showing top 20 rows\n",
            "\n"
          ]
        }
      ]
    },
    {
      "cell_type": "code",
      "source": [
        "evaluator = BinaryClassificationEvaluator(labelCol='Pass/Fail', rawPredictionCol=\"rawPrediction\", metricName=\"areaUnderROC\")"
      ],
      "metadata": {
        "id": "w5CCVu9SYtJg"
      },
      "execution_count": 50,
      "outputs": []
    },
    {
      "cell_type": "code",
      "source": [
        "area_under_roc = evaluator.evaluate(ship_results)"
      ],
      "metadata": {
        "id": "5vCiw33v8SVv"
      },
      "execution_count": 62,
      "outputs": []
    },
    {
      "cell_type": "code",
      "source": [
        "print('Area Under ROC: ', area_under_roc)"
      ],
      "metadata": {
        "colab": {
          "base_uri": "https://localhost:8080/"
        },
        "id": "zmqH7wLEY6Uc",
        "outputId": "7659c274-7e23-4473-e59e-9f8ee203e03b"
      },
      "execution_count": 63,
      "outputs": [
        {
          "output_type": "stream",
          "name": "stdout",
          "text": [
            "Area Under ROC:  0.7693765949690118\n"
          ]
        }
      ]
    },
    {
      "cell_type": "code",
      "source": [
        "# for multiclass classification problem, use MulticlassClassificationEvaluator\n",
        "multi_evaluator = MulticlassClassificationEvaluator(labelCol='Pass/Fail', predictionCol=\"prediction\", metricName=\"accuracy\")\n"
      ],
      "metadata": {
        "id": "YIe6nHYrZHvN"
      },
      "execution_count": 59,
      "outputs": []
    },
    {
      "cell_type": "code",
      "source": [
        "accuracy = multi_evaluator.evaluate(ship_results)\n",
        "print('Accuracy: ', accuracy)"
      ],
      "metadata": {
        "colab": {
          "base_uri": "https://localhost:8080/"
        },
        "id": "jSU5UvUy6jaD",
        "outputId": "b7765fbe-b859-4dae-c7aa-43691e5ee0c9"
      },
      "execution_count": 60,
      "outputs": [
        {
          "output_type": "stream",
          "name": "stdout",
          "text": [
            "Accuracy:  0.6656891495601173\n"
          ]
        }
      ]
    }
  ]
}